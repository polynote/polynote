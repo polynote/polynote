{
  "metadata" : {
    "config" : {
      "dependencies" : {
        
      },
      "exclusions" : [
      ],
      "repositories" : [
      ],
      "env" : {
        
      }
    },
    "language_info" : {
      "name" : "scala"
    }
  },
  "nbformat" : 4,
  "nbformat_minor" : 0,
  "cells" : [
    {
      "cell_type" : "markdown",
      "execution_count" : 0,
      "metadata" : {
        "language" : "text"
      },
      "language" : "text",
      "source" : [
        "# Writing Markdown<div><br>Here's an example showing how to write markdown to a cell. To configure markdown editing, click the gear icon under `About` and set the `markdownEditor` preference to `true`.&nbsp;</div><div><br></div><div>Source: `https://markdown-it.github.io/`&nbsp;</div>"
      ],
      "outputs" : [
      ]
    },
    {
      "cell_type" : "markdown",
      "execution_count" : 1,
      "metadata" : {
        "language" : "text"
      },
      "language" : "text",
      "source" : [
        "# h1 Heading 8-)<br>## h2 Heading<br>### h3 Heading<br>#### h4 Heading<br>##### h5 Heading<br>###### h6 Heading<br><br><br>## Horizontal Rules<br><br>___<br><br>---<br><br>***<div><br><br>## Emphasis<br><br>**This is bold text**<br><br>__This is bold text__<br><br>*This is italic text*<br><br>_This is italic text_<br><br>~~Strikethrough~~<br><br><br>## Blockquotes<br><br><br>&gt; Blockquotes can also be nested...<br>&gt;&gt; ...by using additional greater-than signs right next to each other...<br>&gt; &gt; &gt; ...or with spaces between arrows.<br><br><br>## Lists<br><br>Unordered<br><br>+ Create a list by starting a line with `+`, `-`, or `*`<br>+ Sub-lists are made by indenting 2 spaces:<br>  - Marker character change forces new list start:<br>    * Ac tristique libero volutpat at<br>    + Facilisis in pretium nisl aliquet<br>    - Nulla volutpat aliquam velit<br>+ Very easy!<br><br>Ordered<br><br>1. Lorem ipsum dolor sit amet<br>2. Consectetur adipiscing elit<br>3. Integer molestie lorem at massa<br><br><br>1. You can use sequential numbers...<br>1. ...or keep all the numbers as `1.`<br><br>Start numbering with offset:<br><br>57. foo<br>1. bar<br><br><br>## Code<br><br>Inline `code`<br><br>Block code \"fences\"<br><br>``` js<br>var foo = function (bar) {<br>  return bar++;<br>};<br><br>console.log(foo(5));<br>```<br><br>## Tables<br><br>| Option | Description |<br>| ------ | ----------- |<br>| data   | path to data files to supply the data that will be passed into templates. |<br>| engine | engine to be used for processing templates. Handlebars is the default. |<br>| ext    | extension to be used for dest files. |<br><br>Right aligned columns<br><br>| Option | Description |<br>| ------:| -----------:|<br>| data   | path to data files to supply the data that will be passed into templates. |<br>| engine | engine to be used for processing templates. Handlebars is the default. |<br>| ext    | extension to be used for dest files. |<br><br><br>## Links<br><br>[link text](http://dev.nodeca.com)<br><br>[link with title](http://nodeca.github.io/pica/demo/ \"title text!\")<br><br><br>## Images<br><br>![Minion](https://octodex.github.com/images/minion.png)<br>![Stormtroopocat](https://octodex.github.com/images/stormtroopocat.jpg \"The Stormtroopocat\")<ins><mark><br></mark></ins></div>"
      ],
      "outputs" : [
      ]
    }
  ]
}