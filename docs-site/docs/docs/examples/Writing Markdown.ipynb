{
  "metadata" : {
    "config" : {
      "dependencies" : {
        
      },
      "exclusions" : [
      ],
      "repositories" : [
      ],
      "env" : {
        
      }
    },
    "language_info" : {
      "name" : "scala"
    }
  },
  "nbformat" : 4,
  "nbformat_minor" : 0,
  "cells" : [
    {
      "cell_type" : "markdown",
      "execution_count" : 0,
      "metadata" : {
        "language" : "markdown"
      },
      "language" : "markdown",
      "source" : [
        "# Writing Markdown  \n",
        "  \n",
        "Polynote follows a traditional `atx` markdown syntax. Click on empty whitespace in the cell below to see all of the current supported markdown syntax. Note that we only support using `*` for bold, italics, bullet lists, etc., and not `-`.  \n",
        "  \n",
        "Note that the following features are only available in rich text editing mode:  \n",
        "  \n",
        "* Sub-indented lists  \n",
        "* Tab indented text  \n",
        "* LaTeX equation support"
      ],
      "outputs" : [
      ]
    },
    {
      "cell_type" : "markdown",
      "execution_count" : 1,
      "metadata" : {
        "language" : "markdown"
      },
      "language" : "markdown",
      "source" : [
        "# Heading Tags  \n",
        "  \n",
        "`# text` evaluates to an h1 tag, `## text` an h2 tag, etc.  \n",
        "  \n",
        "# h1 Heading  \n",
        "  \n",
        "## h2 Heading  \n",
        "  \n",
        "### h3 Heading  \n",
        "  \n",
        "#### h4 Heading  \n",
        "  \n",
        "##### h5 Heading  \n",
        "  \n",
        "###### h6 Heading  \n",
        "  \n",
        "# Horizontal Lines  \n",
        "  \n",
        "Horizontal lines use the `* * *` syntax.  \n",
        "  \n",
        "* * *  \n",
        "  \n",
        "# Emphasis  \n",
        "  \n",
        "**This is bold text**, done using `**your text here**`.  \n",
        "  \n",
        "*This is italic text*, done using `*your text here*`.  \n",
        "  \n",
        "# Blockquotes  \n",
        "  \n",
        "> Blockquotes can also be nested...  \n",
        ">  \n",
        "> > ...by using additional greater-than signs right next to each other, like `>>`...  \n",
        "> >  \n",
        "> > > ...or with spaces between arrows.  \n",
        "  \n",
        "# Lists  \n",
        "  \n",
        "### Unordered Lists  \n",
        "  \n",
        "* Create a list by starting a line with `*`  \n",
        "* Sub-lists are made by indenting 2 spaces before each character  \n",
        "* Very easy!  \n",
        "  \n",
        "### Ordered Lists  \n",
        "  \n",
        "1. Lorem ipsum dolor sit amet  \n",
        "  \n",
        "2. Consectetur adipiscing elit  \n",
        "  \n",
        "3. Integer molestie lorem at massa  \n",
        "  \n",
        "4. You can use sequential numbers...  \n",
        "  \n",
        "5. ...or keep all the numbers as `1.`  \n",
        "  \n",
        "  \n",
        "###### Start numbering with offset:  \n",
        "  \n",
        "57. foo  \n",
        "58. bar  \n",
        "  \n",
        "# Code  \n",
        "  \n",
        "Inline `code` using backticks  \n",
        "  \n",
        "Block code \"fences\" using triple backticks  \n",
        "  \n",
        "```  \n",
        "var foo = function (bar) {  \n",
        "  return bar++;  \n",
        "};  \n",
        "```  \n",
        "  \n",
        "# Images  \n",
        "  \n",
        "Done using traditional `[text](link)` format.  \n",
        "  \n",
        "![Minion](https://octodex.github.com/images/minion.png) ![Stormtroopocat](https://octodex.github.com/images/stormtroopocat.jpg \"The Stormtroopocat\")"
      ],
      "outputs" : [
      ]
    }
  ]
}