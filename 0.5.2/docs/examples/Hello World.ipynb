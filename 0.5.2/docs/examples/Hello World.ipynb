{
  "metadata" : {
    "config" : {
      "dependencies" : {
        
      },
      "exclusions" : [
      ],
      "repositories" : [
      ],
      "sparkConfig" : {

      }
    }
  },
  "nbformat" : 4,
  "nbformat_minor" : 0,
  "cells" : [
    {
      "cell_type" : "markdown",
      "execution_count" : 0,
      "metadata" : {
        "language" : "text"
      },
      "language" : "text",
      "source" : [
        "# Hello World\n",
        "\n",
        "\n",
        "Woohoo, my first Polynote notebook!\n",
        "\n",
        "\n"
      ],
      "outputs" : [
      ]
    },
    {
      "cell_type" : "code",
      "execution_count" : 1,
      "metadata" : {
        "cell.metadata.exec_info" : {
          "startTs" : 1572052463366,
          "endTs" : 1572052463973
        },
        "language" : "scala"
      },
      "language" : "scala",
      "source" : [
        "val hi = \"I can write something in Scala\""
      ],
      "outputs" : [
      ]
    },
    {
      "cell_type" : "code",
      "execution_count" : 2,
      "metadata" : {
        "cell.metadata.exec_info" : {
          "startTs" : 1572052464011,
          "endTs" : 1572052466313
        },
        "language" : "python"
      },
      "language" : "python",
      "source" : [
        "print(hi, \"and print it in Python!\")"
      ],
      "outputs" : [
        {
          "name" : "stdout",
          "text" : [
            "I can write something in Scala and print it in Python!\n"
          ],
          "output_type" : "stream"
        }
      ]
    },
    {
      "cell_type" : "code",
      "execution_count" : 3,
      "metadata" : {
        "cell.metadata.exec_info" : {
          "startTs" : 1572052466315,
          "endTs" : 1572052466620
        },
        "language" : "python"
      },
      "language" : "python",
      "source" : [
      ],
      "outputs" : [
      ]
    }
  ]
}