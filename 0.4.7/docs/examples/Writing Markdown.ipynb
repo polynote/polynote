{
  "metadata" : {
    "config" : {
      "dependencies" : {
        
      },
      "exclusions" : [
      ],
      "repositories" : [
      ],
      "env" : {
        
      }
    },
    "language_info" : {
      "name" : "scala"
    }
  },
  "nbformat" : 4,
  "nbformat_minor" : 0,
  "cells" : [
    {
      "cell_type" : "markdown",
      "execution_count" : 1,
      "metadata" : {
        "language" : "text"
      },
      "language" : "text",
      "source" : [
        "# Writing Markdown\n",
        "\n",
        "\n",
        "Here's an example showing how to write markdown in Polynote. Clicking on the below cell will reveal the raw markdown text,\n",
        "showing you all the commands that Polynote currently supports.\n",
        "\n",
        "\n",
        "To enable this view, make sure to toggle the `markdown` setting to `true` in `Settings`."
      ],
      "outputs" : [
      ]
    },
    {
      "cell_type" : "markdown",
      "execution_count" : 0,
      "metadata" : {
        "language" : "text"
      },
      "language" : "text",
      "source" : [
        "# h1 Heading \n",
        "## h2 Heading\n",
        "### h3 Heading\n",
        "#### h4 Heading\n",
        "##### h5 Heading\n",
        "###### h6 Heading\n",
        "\n",
        "\n",
        "## Horizontal Rules\n",
        "\n",
        "___\n",
        "\n",
        "\n",
        "## Emphasis\n",
        "\n",
        "**This is bold text**\n",
        "\n",
        "__This is bold text__\n",
        "\n",
        "*This is italic text*\n",
        "\n",
        "_This is italic text_\n",
        "\n",
        "~~Strikethrough~~\n",
        "\n",
        "\n",
        "## Blockquotes\n",
        "\n",
        "\n",
        "> Blockquotes can also be nested...\n",
        ">> ...by using additional greater-than signs right next to each other...\n",
        "> > > ...or with spaces between arrows.\n",
        "\n",
        "\n",
        "## Lists\n",
        "\n",
        "Unordered\n",
        "\n",
        "+ Create a list by starting a line with `+`, `-`, or `*`\n",
        "+ Sub-lists are made by indenting 2 spaces:\n",
        "  - Marker character change forces new list start:\n",
        "    * Ac tristique libero volutpat at\n",
        "    + Facilisis in pretium nisl aliquet\n",
        "    - Nulla volutpat aliquam velit\n",
        "+ Very easy!\n",
        "\n",
        "Ordered\n",
        "\n",
        "1. Lorem ipsum dolor sit amet\n",
        "2. Consectetur adipiscing elit\n",
        "3. Integer molestie lorem at massa\n",
        "\n",
        "\n",
        "1. You can use sequential numbers...\n",
        "1. ...or keep all the numbers as `1.`\n",
        "\n",
        "Start numbering with offset:\n",
        "\n",
        "57. foo\n",
        "1. bar\n",
        "\n",
        "\n",
        "## Code\n",
        "\n",
        "Inline `code`\n",
        "\n",
        "\n",
        "Block code \"fences\"\n",
        "\n",
        "``` \n",
        "var foo = function (bar) {\n",
        "  return bar++;\n",
        "};\n",
        "\n",
        "console.log(foo(5));\n",
        "```\n",
        "\n",
        "## Tables\n",
        "\n",
        "| Option | Description |\n",
        "| ------ | ----------- |\n",
        "| data   | path to data files to supply the data that will be passed into templates. |\n",
        "| engine | engine to be used for processing templates. Handlebars is the default. |\n",
        "| ext    | extension to be used for dest files. |\n",
        "\n",
        "Right aligned columns\n",
        "\n",
        "| Option | Description |\n",
        "| ------:| -----------:|\n",
        "| data   | path to data files to supply the data that will be passed into templates. |\n",
        "| engine | engine to be used for processing templates. Handlebars is the default. |\n",
        "| ext    | extension to be used for dest files. |\n",
        "\n",
        "\n",
        "## Links\n",
        "\n",
        "[link text](http://dev.nodeca.com)\n",
        "\n",
        "\n",
        "## Images\n",
        "\n",
        "![Minion](https://octodex.github.com/images/minion.png)"
      ],
      "outputs" : [
      ]
    }
  ]
}